{
 "cells": [
  {
   "cell_type": "code",
   "execution_count": 1,
   "metadata": {},
   "outputs": [
    {
     "name": "stdout",
     "output_type": "stream",
     "text": [
      " * Serving Flask app '__main__'\n",
      " * Debug mode: on\n"
     ]
    },
    {
     "name": "stderr",
     "output_type": "stream",
     "text": [
      "WARNING: This is a development server. Do not use it in a production deployment. Use a production WSGI server instead.\n",
      " * Running on http://127.0.0.1:5000\n",
      "Press CTRL+C to quit\n",
      "127.0.0.1 - - [03/Feb/2024 16:06:41] \"GET / HTTP/1.1\" 404 -\n",
      "127.0.0.1 - - [03/Feb/2024 16:06:41] \"GET /favicon.ico HTTP/1.1\" 404 -\n",
      "127.0.0.1 - - [03/Feb/2024 16:06:50] \"GET / HTTP/1.1\" 404 -\n"
     ]
    }
   ],
   "source": [
    "from flask import Flask, render_template, request\n",
    "import os \n",
    "from deeplearning import object_detection\n",
    "\n",
    "# Web server gateway interface\n",
    "app = Flask(__name__)\n",
    "\n",
    "BASE_PATH = os.getcwd()\n",
    "UPLOAD_PATH = os.path.join(BASE_PATH, 'static', 'upload')\n",
    "\n",
    "@app.route('/car', methods=['POST', 'GET'])\n",
    "def index():\n",
    "    if request.method == 'POST':\n",
    "        if 'image_name' not in request.files:\n",
    "            return render_template('index.html', upload=False, error='No file part')\n",
    "\n",
    "        upload_file = request.files['image_name']\n",
    "\n",
    "        if upload_file.filename == '':\n",
    "            return render_template('index.html', upload=False, error='No selected file')\n",
    "\n",
    "        filename = os.path.join(UPLOAD_PATH, upload_file.filename)\n",
    "        upload_file.save(filename)\n",
    "        \n",
    "        text_list = object_detection(filename, upload_file.filename)\n",
    "        print(text_list)\n",
    "\n",
    "        return render_template('index.html', upload=True, upload_image=upload_file.filename, text=text_list, no=len(text_list))\n",
    "\n",
    "    return render_template('index.html', upload=False)\n",
    "\n",
    "if __name__ == \"__main__\":\n",
    "    app.run(debug=True, use_reloader=False)\n",
    "\n"
   ]
  },
  {
   "cell_type": "code",
   "execution_count": null,
   "metadata": {},
   "outputs": [],
   "source": []
  }
 ],
 "metadata": {
  "kernelspec": {
   "display_name": "base",
   "language": "python",
   "name": "python3"
  },
  "language_info": {
   "codemirror_mode": {
    "name": "ipython",
    "version": 3
   },
   "file_extension": ".py",
   "mimetype": "text/x-python",
   "name": "python",
   "nbconvert_exporter": "python",
   "pygments_lexer": "ipython3",
   "version": "3.9.13"
  }
 },
 "nbformat": 4,
 "nbformat_minor": 2
}
